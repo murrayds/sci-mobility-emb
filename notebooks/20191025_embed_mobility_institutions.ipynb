{
 "cells": [
  {
   "cell_type": "code",
   "execution_count": 52,
   "metadata": {},
   "outputs": [],
   "source": [
    "import gensim \n",
    "import pandas as pd\n",
    "\n",
    "from sklearn.manifold import TSNE\n",
    "import matplotlib.pyplot as plt\n",
    "%matplotlib inline\n"
   ]
  },
  {
   "cell_type": "code",
   "execution_count": 53,
   "metadata": {},
   "outputs": [
    {
     "data": {
      "text/html": [
       "<div>\n",
       "<style scoped>\n",
       "    .dataframe tbody tr th:only-of-type {\n",
       "        vertical-align: middle;\n",
       "    }\n",
       "\n",
       "    .dataframe tbody tr th {\n",
       "        vertical-align: top;\n",
       "    }\n",
       "\n",
       "    .dataframe thead th {\n",
       "        text-align: right;\n",
       "    }\n",
       "</style>\n",
       "<table border=\"1\" class=\"dataframe\">\n",
       "  <thead>\n",
       "    <tr style=\"text-align: right;\">\n",
       "      <th></th>\n",
       "      <th>cluster_id</th>\n",
       "      <th>inst_sentence</th>\n",
       "    </tr>\n",
       "  </thead>\n",
       "  <tbody>\n",
       "    <tr>\n",
       "      <th>0</th>\n",
       "      <td>12</td>\n",
       "      <td>1292 1292 257</td>\n",
       "    </tr>\n",
       "    <tr>\n",
       "      <th>1</th>\n",
       "      <td>39</td>\n",
       "      <td>3047 846 3047 846 3047 846</td>\n",
       "    </tr>\n",
       "    <tr>\n",
       "      <th>2</th>\n",
       "      <td>41</td>\n",
       "      <td>100189 15929 3962 100104 3961</td>\n",
       "    </tr>\n",
       "    <tr>\n",
       "      <th>3</th>\n",
       "      <td>50</td>\n",
       "      <td>1247 10200</td>\n",
       "    </tr>\n",
       "    <tr>\n",
       "      <th>4</th>\n",
       "      <td>67</td>\n",
       "      <td>2625 19001 19001 2625 10158</td>\n",
       "    </tr>\n",
       "  </tbody>\n",
       "</table>\n",
       "</div>"
      ],
      "text/plain": [
       "   cluster_id                  inst_sentence\n",
       "0          12                  1292 1292 257\n",
       "1          39     3047 846 3047 846 3047 846\n",
       "2          41  100189 15929 3962 100104 3961\n",
       "3          50                     1247 10200\n",
       "4          67    2625 19001 19001 2625 10158"
      ]
     },
     "execution_count": 53,
     "metadata": {},
     "output_type": "execute_result"
    }
   ],
   "source": [
    "mobility_transitions = pd.read_csv('/Users/dakotamurray/Dropbox/SME-dropbox/Data/Derived/mobility_sentences/institution_sentences_2019to2019.csv')\n",
    "mobility_transitions.head()"
   ]
  },
  {
   "cell_type": "code",
   "execution_count": 54,
   "metadata": {},
   "outputs": [
    {
     "data": {
      "text/plain": [
       "[['1292', '1292', '257'],\n",
       " ['3047', '846', '3047', '846', '3047', '846'],\n",
       " ['100189', '15929', '3962', '100104', '3961'],\n",
       " ['1247', '10200'],\n",
       " ['2625', '19001', '19001', '2625', '10158']]"
      ]
     },
     "execution_count": 54,
     "metadata": {},
     "output_type": "execute_result"
    }
   ],
   "source": [
    "# Tokenize the sentences into a list of lists\n",
    "mobility_list = []\n",
    "for sentence in mobility_transitions.inst_sentence:\n",
    "    mobility_list.append(sentence.split(' '))\n",
    "    \n",
    "mobility_list[0:5]"
   ]
  },
  {
   "cell_type": "code",
   "execution_count": 55,
   "metadata": {},
   "outputs": [],
   "source": [
    "# Now go about training the gensim model\n",
    "# build vocabulary and train model\n",
    "model = gensim.models.Word2Vec(\n",
    "            mobility_list,\n",
    "            size = 80,\n",
    "            window = 10, # just use the entire sentence\n",
    "            min_count = 20, # Remove tokens that don't appear enough\n",
    "            workers = 4, # paralellize, use 4 workers\n",
    "            iter = 50\n",
    ") # end model"
   ]
  },
  {
   "cell_type": "code",
   "execution_count": 56,
   "metadata": {},
   "outputs": [
    {
     "data": {
      "text/plain": [
       "[('10377', 0.9343024492263794),\n",
       " ('1223', 0.8040107488632202),\n",
       " ('30001', 0.41414177417755127),\n",
       " ('10366', 0.39374053478240967),\n",
       " ('3477', 0.3867662847042084),\n",
       " ('1306', 0.3768657445907593),\n",
       " ('30008', 0.37480348348617554),\n",
       " ('15906', 0.36990493535995483),\n",
       " ('10395', 0.36608612537384033),\n",
       " ('10372', 0.3632366359233856)]"
      ]
     },
     "execution_count": 56,
     "metadata": {},
     "output_type": "execute_result"
    }
   ],
   "source": [
    "# Most similar to IUB\n",
    "model.wv.most_similar('1179')"
   ]
  },
  {
   "cell_type": "code",
   "execution_count": 57,
   "metadata": {},
   "outputs": [
    {
     "name": "stderr",
     "output_type": "stream",
     "text": [
      "/Users/dakotamurray/.local/share/virtualenvs/sci-mobility-emb-SC2D__Jk/lib/python3.7/site-packages/ipykernel_launcher.py:7: DeprecationWarning: Call to deprecated `__getitem__` (Method will be removed in 4.0.0, use self.wv.__getitem__() instead).\n",
      "  import sys\n"
     ]
    },
    {
     "name": "stdout",
     "output_type": "stream",
     "text": [
      "[t-SNE] Computing 31 nearest neighbors...\n",
      "[t-SNE] Indexed 7126 samples in 0.013s...\n",
      "[t-SNE] Computed neighbors for 7126 samples in 9.899s...\n",
      "[t-SNE] Computed conditional probabilities for sample 1000 / 7126\n",
      "[t-SNE] Computed conditional probabilities for sample 2000 / 7126\n",
      "[t-SNE] Computed conditional probabilities for sample 3000 / 7126\n",
      "[t-SNE] Computed conditional probabilities for sample 4000 / 7126\n",
      "[t-SNE] Computed conditional probabilities for sample 5000 / 7126\n",
      "[t-SNE] Computed conditional probabilities for sample 6000 / 7126\n",
      "[t-SNE] Computed conditional probabilities for sample 7000 / 7126\n",
      "[t-SNE] Computed conditional probabilities for sample 7126 / 7126\n",
      "[t-SNE] Mean sigma: 1.799123\n",
      "[t-SNE] KL divergence after 250 iterations with early exaggeration: 101.690102\n",
      "[t-SNE] KL divergence after 2000 iterations: 2.918664\n"
     ]
    }
   ],
   "source": [
    "def tsne_coords(model):\n",
    "    \"Creates and TSNE model and plots it\"\n",
    "    labels = []\n",
    "    tokens = []\n",
    "\n",
    "    for word in model.wv.vocab:\n",
    "        tokens.append(model[word])\n",
    "        labels.append(word)\n",
    "    \n",
    "    tsne_model = TSNE(perplexity=10, n_components=2, init='pca', n_iter=2000, random_state=23, verbose = True)\n",
    "    new_values = tsne_model.fit_transform(tokens)\n",
    "\n",
    "    x = []\n",
    "    y = []\n",
    "    for value in new_values:\n",
    "        x.append(value[0])\n",
    "        y.append(value[1])\n",
    "        \n",
    "    df = pd.DataFrame(x, y)\n",
    "    return(df)\n",
    "    \n",
    "tsne_coords_df = tsne_coords(model)"
   ]
  },
  {
   "cell_type": "code",
   "execution_count": 58,
   "metadata": {},
   "outputs": [
    {
     "name": "stderr",
     "output_type": "stream",
     "text": [
      "/Users/dakotamurray/.local/share/virtualenvs/sci-mobility-emb-SC2D__Jk/lib/python3.7/site-packages/ipykernel_launcher.py:7: DeprecationWarning: Call to deprecated `__getitem__` (Method will be removed in 4.0.0, use self.wv.__getitem__() instead).\n",
      "  import sys\n"
     ]
    }
   ],
   "source": [
    "from sklearn.decomposition import PCA\n",
    "\n",
    "labels = []\n",
    "tokens = []\n",
    "\n",
    "for word in model.wv.vocab:\n",
    "    tokens.append(model[word])\n",
    "    labels.append(word)\n",
    "\n",
    "pca = PCA(n_components=2)\n",
    "components = pca.fit_transform(tokens)\n",
    "pca_coords_df = pd.DataFrame(data = components, columns = ['x', 'y'])"
   ]
  },
  {
   "cell_type": "code",
   "execution_count": null,
   "metadata": {},
   "outputs": [],
   "source": [
    "import umap\n",
    "reducer = umap.UMAP()\n",
    "embedding = reducer.fit_transform(tokens)\n",
    "umap_coords_df = pd.DataFrame(embedding, columns = ['x', 'y'])"
   ]
  },
  {
   "cell_type": "code",
   "execution_count": 67,
   "metadata": {},
   "outputs": [],
   "source": [
    "labels = [word for word in model.wv.vocab]\n",
    "tsne_coords_df['token'] = labels\n",
    "pca_coords_df['token'] = labels\n",
    "umap_coords_df['token'] = labels"
   ]
  },
  {
   "cell_type": "code",
   "execution_count": 68,
   "metadata": {},
   "outputs": [],
   "source": [
    "tsne_coords_df.to_csv('/Users/dakotamurray/Dropbox/SME-dropbox/Data/Derived/dim_reduced/inst_tsne.csv')\n",
    "umap_coords_df.to_csv('/Users/dakotamurray/Dropbox/SME-dropbox/Data/Derived/dim_reduced/inst_umap.csv')\n",
    "pca_coords_df.to_csv('/Users/dakotamurray/Dropbox/SME-dropbox/Data/Derived/dim_reduced/inst_pca.csv')"
   ]
  }
 ],
 "metadata": {
  "kernelspec": {
   "display_name": "Python 3",
   "language": "python",
   "name": "python3"
  },
  "language_info": {
   "codemirror_mode": {
    "name": "ipython",
    "version": 3
   },
   "file_extension": ".py",
   "mimetype": "text/x-python",
   "name": "python",
   "nbconvert_exporter": "python",
   "pygments_lexer": "ipython3",
   "version": "3.7.4"
  }
 },
 "nbformat": 4,
 "nbformat_minor": 2
}
